{
 "cells": [
  {
   "cell_type": "markdown",
   "id": "03e4a23a",
   "metadata": {},
   "source": [
    "PART-A video-1"
   ]
  },
  {
   "cell_type": "code",
   "execution_count": 1,
   "id": "7c68d19b",
   "metadata": {},
   "outputs": [],
   "source": [
    "name = 'santosh'"
   ]
  },
  {
   "cell_type": "code",
   "execution_count": 4,
   "id": "b170953c",
   "metadata": {},
   "outputs": [
    {
     "name": "stdout",
     "output_type": "stream",
     "text": [
      "name is santosh and his age is 28 santosh\n"
     ]
    }
   ],
   "source": [
    "print(f\"name is {name} and his age is 28 {name}\")"
   ]
  },
  {
   "cell_type": "code",
   "execution_count": 6,
   "id": "c2f99992",
   "metadata": {},
   "outputs": [],
   "source": [
    "nums = {'santosh': 123, 'rahul': 456}"
   ]
  },
  {
   "cell_type": "code",
   "execution_count": 13,
   "id": "10c14e25",
   "metadata": {},
   "outputs": [
    {
     "name": "stdout",
     "output_type": "stream",
     "text": [
      "santosh number is 123 and his name is dict_keys(['santosh', 'rahul']) and the values are dict_values([123, 456])\n"
     ]
    }
   ],
   "source": [
    "print(f\"{name} number is {nums['santosh']} and his name is {nums.keys()} and the values are {nums.values()}\")"
   ]
  },
  {
   "cell_type": "code",
   "execution_count": 19,
   "id": "4edec74c",
   "metadata": {},
   "outputs": [],
   "source": [
    "library = [('Author', 'Topic', 'Pages'), ('santosh', 'data Science Artificial Intelligence', '100'), ('rahul', 'Finance', '200')]"
   ]
  },
  {
   "cell_type": "code",
   "execution_count": 35,
   "id": "4206a52a",
   "metadata": {},
   "outputs": [
    {
     "name": "stdout",
     "output_type": "stream",
     "text": [
      "Author     Topic                                    Pages\n",
      "santosh    data Science Artificial Intelligence     100\n",
      "rahul      Finance                                  200\n"
     ]
    }
   ],
   "source": [
    "for author, topic, pages in library:\n",
    "    print(f\"{author:{10}} {topic:{40}} {pages}\")"
   ]
  },
  {
   "cell_type": "code",
   "execution_count": 36,
   "id": "8109b73e",
   "metadata": {},
   "outputs": [],
   "source": [
    "from datetime import datetime"
   ]
  },
  {
   "cell_type": "code",
   "execution_count": 37,
   "id": "4a4fc726",
   "metadata": {},
   "outputs": [],
   "source": [
    "today = datetime(year = 1994, day=13,month=6)"
   ]
  },
  {
   "cell_type": "code",
   "execution_count": 39,
   "id": "d2e8bfb7",
   "metadata": {},
   "outputs": [
    {
     "name": "stdout",
     "output_type": "stream",
     "text": [
      "1994-06-13 00:00:00\n"
     ]
    }
   ],
   "source": [
    "print(f\"{today}\")"
   ]
  },
  {
   "cell_type": "code",
   "execution_count": 43,
   "id": "3984ec5a",
   "metadata": {},
   "outputs": [
    {
     "name": "stdout",
     "output_type": "stream",
     "text": [
      "June 13 1994\n"
     ]
    }
   ],
   "source": [
    "print(f\"{today:%B %d %Y}\")"
   ]
  },
  {
   "cell_type": "markdown",
   "id": "4cad5dbb",
   "metadata": {},
   "source": [
    "Refer to python STRFTIME directive"
   ]
  },
  {
   "cell_type": "markdown",
   "id": "96dac42b",
   "metadata": {},
   "source": [
    "PART-B video-2 Working with text files with python"
   ]
  },
  {
   "cell_type": "code",
   "execution_count": 62,
   "id": "9653f0f3",
   "metadata": {},
   "outputs": [
    {
     "name": "stdout",
     "output_type": "stream",
     "text": [
      "Writing test.txt\n"
     ]
    }
   ],
   "source": [
    "%%writefile test.txt\n",
    "Hello this is santosh\n",
    "This is the second line of the text file\n",
    "this is the third line of the text file"
   ]
  },
  {
   "cell_type": "code",
   "execution_count": 66,
   "id": "440e3d7b",
   "metadata": {},
   "outputs": [
    {
     "data": {
      "text/plain": [
       "<_io.TextIOWrapper name='test.txt' mode='r' encoding='UTF-8'>"
      ]
     },
     "execution_count": 66,
     "metadata": {},
     "output_type": "execute_result"
    }
   ],
   "source": [
    "myFile = open('test.txt')\n",
    "myFile"
   ]
  },
  {
   "cell_type": "markdown",
   "id": "58b776d5",
   "metadata": {},
   "source": [
    "Files by default open in read mode when the access mode is not specifically mentioned"
   ]
  },
  {
   "cell_type": "code",
   "execution_count": 67,
   "id": "3123e862",
   "metadata": {},
   "outputs": [
    {
     "data": {
      "text/plain": [
       "'Hello this is santosh\\nThis is the second line of the text file\\nthis is the third line of the text file\\n'"
      ]
     },
     "execution_count": 67,
     "metadata": {},
     "output_type": "execute_result"
    }
   ],
   "source": [
    "myFile.read()"
   ]
  },
  {
   "cell_type": "code",
   "execution_count": 68,
   "id": "0eca6ffe",
   "metadata": {},
   "outputs": [
    {
     "data": {
      "text/plain": [
       "''"
      ]
     },
     "execution_count": 68,
     "metadata": {},
     "output_type": "execute_result"
    }
   ],
   "source": [
    "myFile.read()"
   ]
  },
  {
   "cell_type": "markdown",
   "id": "c959e718",
   "metadata": {},
   "source": [
    "Once the file is read the cursor points to the last character in the file. So to tackle this issue"
   ]
  },
  {
   "cell_type": "code",
   "execution_count": 75,
   "id": "9a07757f",
   "metadata": {},
   "outputs": [
    {
     "data": {
      "text/plain": [
       "0"
      ]
     },
     "execution_count": 75,
     "metadata": {},
     "output_type": "execute_result"
    }
   ],
   "source": [
    "myFile.seek(0)"
   ]
  },
  {
   "cell_type": "markdown",
   "id": "73d60dae",
   "metadata": {},
   "source": [
    "Point the cursor back to the index of the first character in the file or to the beginning of the file"
   ]
  },
  {
   "cell_type": "code",
   "execution_count": 71,
   "id": "b02229dd",
   "metadata": {},
   "outputs": [
    {
     "data": {
      "text/plain": [
       "'Hello this is santosh\\nThis is the second line of the text file\\nthis is the third line of the text file\\n'"
      ]
     },
     "execution_count": 71,
     "metadata": {},
     "output_type": "execute_result"
    }
   ],
   "source": [
    "myFile.read()"
   ]
  },
  {
   "cell_type": "code",
   "execution_count": 76,
   "id": "cd3cb06f",
   "metadata": {},
   "outputs": [
    {
     "data": {
      "text/plain": [
       "'Hello this is santosh\\nThis is the second line of the text file\\nthis is the third line of the text file\\n'"
      ]
     },
     "execution_count": 76,
     "metadata": {},
     "output_type": "execute_result"
    }
   ],
   "source": [
    "content = myFile.read()\n",
    "content"
   ]
  },
  {
   "cell_type": "code",
   "execution_count": 78,
   "id": "53cfa7dd",
   "metadata": {},
   "outputs": [
    {
     "name": "stdout",
     "output_type": "stream",
     "text": [
      "Hello this is santosh\n",
      "This is the second line of the text file\n",
      "this is the third line of the text file\n",
      "\n"
     ]
    }
   ],
   "source": [
    "print(f\"{content}\")"
   ]
  },
  {
   "cell_type": "code",
   "execution_count": 79,
   "id": "bf21eb41",
   "metadata": {},
   "outputs": [],
   "source": [
    "#It is always a good practice to close the file after using it \n",
    "myFile.close()"
   ]
  },
  {
   "cell_type": "code",
   "execution_count": 82,
   "id": "c2165365",
   "metadata": {},
   "outputs": [
    {
     "data": {
      "text/plain": [
       "['Hello this is santosh\\n',\n",
       " 'This is the second line of the text file\\n',\n",
       " 'this is the third line of the text file\\n']"
      ]
     },
     "execution_count": 82,
     "metadata": {},
     "output_type": "execute_result"
    }
   ],
   "source": [
    "myFile = open('test.txt')\n",
    "#reads each line in the file to a list, every line is a list element \n",
    "content = myFile.readlines()\n",
    "content"
   ]
  },
  {
   "cell_type": "code",
   "execution_count": 89,
   "id": "b8cf8a34",
   "metadata": {},
   "outputs": [
    {
     "name": "stdout",
     "output_type": "stream",
     "text": [
      "H\n",
      "Hello\n",
      "T\n",
      "This\n",
      "t\n",
      "this\n"
     ]
    }
   ],
   "source": [
    "for line in content:\n",
    "    #prints first character of each line \n",
    "    print (f\"{line[0]}\")\n",
    "    # line.split() splits the line into a list of words separated with white space delimiter and the [0]\n",
    "    # index will fetch the first element of the list\n",
    "    print (f\"{line.split()[0]}\")\n",
    "    "
   ]
  },
  {
   "cell_type": "code",
   "execution_count": 92,
   "id": "6c444548",
   "metadata": {},
   "outputs": [
    {
     "data": {
      "text/plain": [
       "''"
      ]
     },
     "execution_count": 92,
     "metadata": {},
     "output_type": "execute_result"
    }
   ],
   "source": [
    "# opening the file with w+ mode will help us read and write to the file. When we write the entire old\n",
    "# text content inside the file will be lost. \n",
    "myFile =  open('test.txt', 'w+')\n",
    "# the entire text is erased and the file is ready to be rewritten\n",
    "myFile.read()\n",
    "# now .seek(0) will still print nothing\n",
    "myFile.seek(0)\n",
    "myFile.read()"
   ]
  },
  {
   "cell_type": "code",
   "execution_count": 97,
   "id": "a8369c51",
   "metadata": {},
   "outputs": [
    {
     "data": {
      "text/plain": [
       "'Hello this is a new line added!Hello this is a new line added!Hello this is a new line added!'"
      ]
     },
     "execution_count": 97,
     "metadata": {},
     "output_type": "execute_result"
    }
   ],
   "source": [
    "myFile.write('Hello this is a new line added!')\n",
    "# after writing the index has to be pointed to the first character again, if not it points to the end of file\n",
    "# or the last character\n",
    "myFile.seek(0)\n",
    "myFile.read()"
   ]
  },
  {
   "cell_type": "code",
   "execution_count": 98,
   "id": "9cb67efe",
   "metadata": {},
   "outputs": [],
   "source": [
    "myFile.close()"
   ]
  },
  {
   "cell_type": "code",
   "execution_count": 99,
   "id": "6ba0ccca",
   "metadata": {},
   "outputs": [
    {
     "data": {
      "text/plain": [
       "'This is the first line.'"
      ]
     },
     "execution_count": 99,
     "metadata": {},
     "output_type": "execute_result"
    }
   ],
   "source": [
    "# Appending to the file\n",
    "# when opening a file to append 'a+' mode should be set\n",
    "# If the file given is not present when opening with 'a+' mode, new file will be created instead of throwing \n",
    "# an error, so be carefull\n",
    "myFile = open('test2.txt', 'a+')\n",
    "myFile.write('This is the first line.')\n",
    "myFile.seek(0)\n",
    "myFile.read()"
   ]
  },
  {
   "cell_type": "code",
   "execution_count": 100,
   "id": "5314f41c",
   "metadata": {},
   "outputs": [
    {
     "data": {
      "text/plain": [
       "25"
      ]
     },
     "execution_count": 100,
     "metadata": {},
     "output_type": "execute_result"
    }
   ],
   "source": [
    "myFile.write('\\n This is the second line')"
   ]
  },
  {
   "cell_type": "code",
   "execution_count": 101,
   "id": "b855bb40",
   "metadata": {},
   "outputs": [
    {
     "data": {
      "text/plain": [
       "0"
      ]
     },
     "execution_count": 101,
     "metadata": {},
     "output_type": "execute_result"
    }
   ],
   "source": [
    "myFile.seek(0)"
   ]
  },
  {
   "cell_type": "code",
   "execution_count": 102,
   "id": "fa03f983",
   "metadata": {},
   "outputs": [
    {
     "data": {
      "text/plain": [
       "'This is the first line.\\n This is the second line'"
      ]
     },
     "execution_count": 102,
     "metadata": {},
     "output_type": "execute_result"
    }
   ],
   "source": [
    "myFile.read()"
   ]
  },
  {
   "cell_type": "code",
   "execution_count": 106,
   "id": "8bf1fe68",
   "metadata": {},
   "outputs": [
    {
     "name": "stdout",
     "output_type": "stream",
     "text": [
      "This is the first line.\n",
      " This is the second line\n"
     ]
    }
   ],
   "source": [
    "myFile.seek(0)\n",
    "myFile.readlines()\n",
    "myFile.seek(0)\n",
    "content = myFile.read()\n",
    "print(f\"{content}\")"
   ]
  },
  {
   "cell_type": "code",
   "execution_count": 107,
   "id": "8b3c9105",
   "metadata": {},
   "outputs": [],
   "source": [
    "myFile.close()"
   ]
  },
  {
   "cell_type": "code",
   "execution_count": 109,
   "id": "9ecd35ff",
   "metadata": {},
   "outputs": [
    {
     "name": "stdout",
     "output_type": "stream",
     "text": [
      "This is the first line.\n",
      " This is the second line\n"
     ]
    }
   ],
   "source": [
    "# Using context Manager to automatically close the file\n",
    "# 'with' keyword is used\n",
    "with open('test2.txt', 'r') as myFile:\n",
    "    content = myFile.read()\n",
    "#Here the file is automatically closed\n",
    "\n",
    "print(content)"
   ]
  },
  {
   "cell_type": "markdown",
   "id": "ea4fb406",
   "metadata": {},
   "source": [
    "Part-3 video-3 working with PDF files"
   ]
  },
  {
   "cell_type": "code",
   "execution_count": 113,
   "id": "112536d7",
   "metadata": {},
   "outputs": [
    {
     "name": "stdout",
     "output_type": "stream",
     "text": [
      "Collecting PyPDF2\n",
      "\u001b[?25l  Downloading https://files.pythonhosted.org/packages/8e/5e/c86a5643653825d3c913719e788e41386bee415c2b87b4f955432f2de6b2/pypdf2-3.0.1-py3-none-any.whl (232kB)\n",
      "\u001b[K    100% |████████████████████████████████| 235kB 6.8MB/s ta 0:00:01\n",
      "\u001b[?25hRequirement already satisfied: typing_extensions>=3.10.0.0; python_version < \"3.10\" in /home/santosh/Anaconda/envs/nlp_course/lib/python3.7/site-packages (from PyPDF2) (4.4.0)\n",
      "Installing collected packages: PyPDF2\n",
      "Successfully installed PyPDF2-3.0.1\n",
      "Note: you may need to restart the kernel to use updated packages.\n"
     ]
    }
   ],
   "source": [
    "pip install PyPDF2"
   ]
  },
  {
   "cell_type": "code",
   "execution_count": 1,
   "id": "85af31dc",
   "metadata": {},
   "outputs": [],
   "source": [
    "import PyPDF2 as pypdf\n",
    "# Also not all PDF files can be read since, some of these files are not made with images and not exported\n",
    "# from a word editor"
   ]
  },
  {
   "cell_type": "code",
   "execution_count": 2,
   "id": "578c6e64",
   "metadata": {},
   "outputs": [],
   "source": [
    "# open the pdf file in 'rb' mode i.e. read binary text. \n",
    "myfile = open('/home/santosh/Desktop/MASTERS/EXTRA_COURSE_WORK/NLP/UPDATED_NLP_COURSE/00-Python-Text-Basics/US_Declaration.pdf', mode='rb')\n"
   ]
  },
  {
   "cell_type": "code",
   "execution_count": 7,
   "id": "cf1d0d68",
   "metadata": {},
   "outputs": [
    {
     "data": {
      "text/plain": [
       "5"
      ]
     },
     "execution_count": 7,
     "metadata": {},
     "output_type": "execute_result"
    }
   ],
   "source": [
    "# 'PdfFileReader()' method is deprecated use 'PdfReader()' \n",
    "pdfReader = pypdf.PdfReader(myfile)\n",
    "# '.numPages' method is deprecated use '.pages'\n",
    "len(pdfReader.pages)"
   ]
  },
  {
   "cell_type": "code",
   "execution_count": 13,
   "id": "ea4d3644",
   "metadata": {},
   "outputs": [],
   "source": [
    "# 'getPage(0)' returning text in first page is deprecated use '.pages[0]'\n",
    "pgOne = pdfReader.pages[0]"
   ]
  },
  {
   "cell_type": "code",
   "execution_count": 17,
   "id": "cbf8c50e",
   "metadata": {},
   "outputs": [],
   "source": [
    "# 'extractText()' method is deprecated use 'extract_text()'\n",
    "pg_one_txt = pgOne.extract_text()"
   ]
  },
  {
   "cell_type": "code",
   "execution_count": 18,
   "id": "cf2f9218",
   "metadata": {},
   "outputs": [
    {
     "data": {
      "text/plain": [
       "\"Declaration of Independence\\nIN CONGRESS, July 4, 1776.  \\nThe unanimous Declaration of the thirteen united States of America,  \\nWhen in the Course of human events, it becomes necessary for one people to dissolve thepolitical bands which have connected them with another, and to assume among the powers of theearth, the separate and equal station to which the Laws of Nature and of Nature's God entitlethem, a decent respect to the opinions of mankind requires that they should declare the causeswhich impel them to the separation. We hold these truths to be self-evident, that all men are created equal, that they are endowed bytheir Creator with certain unalienable Rights, that among these are Life, Liberty and the pursuit\\nof Happiness.— \\x14That to secure these rights, Governments are instituted among Men, derivingtheir just powers from the consent of the governed,—  \\x14That whenever any Form of Government\\nbecomes destructive of these ends, it is the Right of the People to alter or to abolish it, and to\\ninstitute new Government, laying its foundation on such principles and organizing its powers in\\nsuch form, as to them shall seem most likely to effect their Safety and Happiness. Prudence,indeed, will dictate that Governments long established should not be changed for light andtransient causes; and accordingly all experience hath shewn, that mankind are more disposed to\\nsuffer, while evils are sufferable, than to right themselves by abolishing the forms to which theyare accustomed. But when a long train of abuses and usurpations, pursuing invariably the same\\nObject evinces a design to reduce them under absolute Despotism, it is their right, it is their duty,\\nto throw off such Government, and to provide new Guards for their future securit y.— \\x14Such has\\nbeen the patient sufferance of these Colonies; and such is now the necessity which constrainsthem to alter their former Systems of Government. The history of the present King of GreatBritain is a history of repeated injuries and usurpations, all having in direct object the\\nestablishment of an absolute Tyranny over these States. To prove this, let Facts be submitted to a\\ncandid world. \\nHe has refused his Assent to Laws, the most wholesome and necessary for the\\npublic good.He has forbidden his Governors to pass Laws of immediate and pressingimportance, unless suspended in their operation till his Assent should be obtained;and when so suspended, he has utterly neglected to attend to them.He has refused to pass other Laws for the accommodation of large districts of\\npeople, unless those people would relinquish the right of Representation in theLegislature, a right inestimable to them and formidable to tyrants only. He has called together legislative bodies at places unusual, uncomfortable, and distantfrom the depository of their public Records, for the sole purpose of fatiguing them into\\ncompliance with his measures.\""
      ]
     },
     "execution_count": 18,
     "metadata": {},
     "output_type": "execute_result"
    }
   ],
   "source": [
    "pg_one_txt"
   ]
  },
  {
   "cell_type": "code",
   "execution_count": 19,
   "id": "9a089f30",
   "metadata": {},
   "outputs": [
    {
     "name": "stdout",
     "output_type": "stream",
     "text": [
      "Declaration of Independence\n",
      "IN CONGRESS, July 4, 1776.  \n",
      "The unanimous Declaration of the thirteen united States of America,  \n",
      "When in the Course of human events, it becomes necessary for one people to dissolve thepolitical bands which have connected them with another, and to assume among the powers of theearth, the separate and equal station to which the Laws of Nature and of Nature's God entitlethem, a decent respect to the opinions of mankind requires that they should declare the causeswhich impel them to the separation. We hold these truths to be self-evident, that all men are created equal, that they are endowed bytheir Creator with certain unalienable Rights, that among these are Life, Liberty and the pursuit\n",
      "of Happiness.— \u0014That to secure these rights, Governments are instituted among Men, derivingtheir just powers from the consent of the governed,—  \u0014That whenever any Form of Government\n",
      "becomes destructive of these ends, it is the Right of the People to alter or to abolish it, and to\n",
      "institute new Government, laying its foundation on such principles and organizing its powers in\n",
      "such form, as to them shall seem most likely to effect their Safety and Happiness. Prudence,indeed, will dictate that Governments long established should not be changed for light andtransient causes; and accordingly all experience hath shewn, that mankind are more disposed to\n",
      "suffer, while evils are sufferable, than to right themselves by abolishing the forms to which theyare accustomed. But when a long train of abuses and usurpations, pursuing invariably the same\n",
      "Object evinces a design to reduce them under absolute Despotism, it is their right, it is their duty,\n",
      "to throw off such Government, and to provide new Guards for their future securit y.— \u0014Such has\n",
      "been the patient sufferance of these Colonies; and such is now the necessity which constrainsthem to alter their former Systems of Government. The history of the present King of GreatBritain is a history of repeated injuries and usurpations, all having in direct object the\n",
      "establishment of an absolute Tyranny over these States. To prove this, let Facts be submitted to a\n",
      "candid world. \n",
      "He has refused his Assent to Laws, the most wholesome and necessary for the\n",
      "public good.He has forbidden his Governors to pass Laws of immediate and pressingimportance, unless suspended in their operation till his Assent should be obtained;and when so suspended, he has utterly neglected to attend to them.He has refused to pass other Laws for the accommodation of large districts of\n",
      "people, unless those people would relinquish the right of Representation in theLegislature, a right inestimable to them and formidable to tyrants only. He has called together legislative bodies at places unusual, uncomfortable, and distantfrom the depository of their public Records, for the sole purpose of fatiguing them into\n",
      "compliance with his measures.\n"
     ]
    }
   ],
   "source": [
    "# printing the content with new lines '\\n'\n",
    "print(pg_one_txt)"
   ]
  },
  {
   "cell_type": "code",
   "execution_count": 20,
   "id": "1349bb5a",
   "metadata": {},
   "outputs": [],
   "source": [
    "myfile.close()"
   ]
  },
  {
   "cell_type": "code",
   "execution_count": 21,
   "id": "f1559eed",
   "metadata": {},
   "outputs": [],
   "source": [
    "myfile = open('/home/santosh/Desktop/MASTERS/EXTRA_COURSE_WORK/NLP/UPDATED_NLP_COURSE/00-Python-Text-Basics/US_Declaration.pdf', 'rb')\n"
   ]
  },
  {
   "cell_type": "code",
   "execution_count": 28,
   "id": "020b0b5c",
   "metadata": {},
   "outputs": [
    {
     "data": {
      "text/plain": [
       "5"
      ]
     },
     "execution_count": 28,
     "metadata": {},
     "output_type": "execute_result"
    }
   ],
   "source": [
    "pdfReader = pypdf.PdfReader(myfile)\n",
    "len(pdfReader.pages)"
   ]
  },
  {
   "cell_type": "code",
   "execution_count": 29,
   "id": "c5bcfe3f",
   "metadata": {},
   "outputs": [],
   "source": [
    "# getting the content of the first page\n",
    "first_pg = pdfReader.pages[0]"
   ]
  },
  {
   "cell_type": "code",
   "execution_count": 31,
   "id": "0a45ec8a",
   "metadata": {},
   "outputs": [],
   "source": [
    "# creating a writer object\n",
    "pdf_writer = pypdf.PdfWriter()"
   ]
  },
  {
   "cell_type": "code",
   "execution_count": 33,
   "id": "41297a43",
   "metadata": {},
   "outputs": [
    {
     "data": {
      "text/plain": [
       "{'/Type': '/Page',\n",
       " '/Contents': {},\n",
       " '/MediaBox': [0, 0, 612, 792],\n",
       " '/Resources': {'/Font': {'/F9': {'/Type': '/Font',\n",
       "    '/Subtype': '/Type1',\n",
       "    '/Name': '/F9',\n",
       "    '/Encoding': '/WinAnsiEncoding',\n",
       "    '/FirstChar': 31,\n",
       "    '/LastChar': 255,\n",
       "    '/Widths': [778,\n",
       "     250,\n",
       "     333,\n",
       "     555,\n",
       "     500,\n",
       "     500,\n",
       "     1000,\n",
       "     833,\n",
       "     278,\n",
       "     333,\n",
       "     333,\n",
       "     500,\n",
       "     570,\n",
       "     250,\n",
       "     333,\n",
       "     250,\n",
       "     278,\n",
       "     500,\n",
       "     500,\n",
       "     500,\n",
       "     500,\n",
       "     500,\n",
       "     500,\n",
       "     500,\n",
       "     500,\n",
       "     500,\n",
       "     500,\n",
       "     333,\n",
       "     333,\n",
       "     570,\n",
       "     570,\n",
       "     570,\n",
       "     500,\n",
       "     930,\n",
       "     722,\n",
       "     667,\n",
       "     722,\n",
       "     722,\n",
       "     667,\n",
       "     611,\n",
       "     778,\n",
       "     778,\n",
       "     389,\n",
       "     500,\n",
       "     778,\n",
       "     667,\n",
       "     944,\n",
       "     722,\n",
       "     778,\n",
       "     611,\n",
       "     778,\n",
       "     722,\n",
       "     556,\n",
       "     667,\n",
       "     722,\n",
       "     722,\n",
       "     1000,\n",
       "     722,\n",
       "     722,\n",
       "     667,\n",
       "     333,\n",
       "     278,\n",
       "     333,\n",
       "     581,\n",
       "     500,\n",
       "     333,\n",
       "     500,\n",
       "     556,\n",
       "     444,\n",
       "     556,\n",
       "     444,\n",
       "     333,\n",
       "     500,\n",
       "     556,\n",
       "     278,\n",
       "     333,\n",
       "     556,\n",
       "     278,\n",
       "     833,\n",
       "     556,\n",
       "     500,\n",
       "     556,\n",
       "     556,\n",
       "     444,\n",
       "     389,\n",
       "     333,\n",
       "     556,\n",
       "     500,\n",
       "     722,\n",
       "     500,\n",
       "     500,\n",
       "     444,\n",
       "     394,\n",
       "     220,\n",
       "     394,\n",
       "     520,\n",
       "     778,\n",
       "     500,\n",
       "     778,\n",
       "     333,\n",
       "     500,\n",
       "     500,\n",
       "     1000,\n",
       "     500,\n",
       "     500,\n",
       "     333,\n",
       "     1000,\n",
       "     556,\n",
       "     333,\n",
       "     1000,\n",
       "     778,\n",
       "     778,\n",
       "     778,\n",
       "     778,\n",
       "     333,\n",
       "     333,\n",
       "     500,\n",
       "     500,\n",
       "     350,\n",
       "     500,\n",
       "     1000,\n",
       "     333,\n",
       "     1000,\n",
       "     389,\n",
       "     333,\n",
       "     722,\n",
       "     778,\n",
       "     778,\n",
       "     722,\n",
       "     250,\n",
       "     333,\n",
       "     500,\n",
       "     500,\n",
       "     500,\n",
       "     500,\n",
       "     220,\n",
       "     500,\n",
       "     333,\n",
       "     747,\n",
       "     300,\n",
       "     500,\n",
       "     570,\n",
       "     333,\n",
       "     747,\n",
       "     500,\n",
       "     400,\n",
       "     549,\n",
       "     300,\n",
       "     300,\n",
       "     333,\n",
       "     576,\n",
       "     540,\n",
       "     250,\n",
       "     333,\n",
       "     300,\n",
       "     330,\n",
       "     500,\n",
       "     750,\n",
       "     750,\n",
       "     750,\n",
       "     500,\n",
       "     722,\n",
       "     722,\n",
       "     722,\n",
       "     722,\n",
       "     722,\n",
       "     722,\n",
       "     1000,\n",
       "     722,\n",
       "     667,\n",
       "     667,\n",
       "     667,\n",
       "     667,\n",
       "     389,\n",
       "     389,\n",
       "     389,\n",
       "     389,\n",
       "     722,\n",
       "     722,\n",
       "     778,\n",
       "     778,\n",
       "     778,\n",
       "     778,\n",
       "     778,\n",
       "     570,\n",
       "     778,\n",
       "     722,\n",
       "     722,\n",
       "     722,\n",
       "     722,\n",
       "     722,\n",
       "     611,\n",
       "     556,\n",
       "     500,\n",
       "     500,\n",
       "     500,\n",
       "     500,\n",
       "     500,\n",
       "     500,\n",
       "     722,\n",
       "     444,\n",
       "     444,\n",
       "     444,\n",
       "     444,\n",
       "     444,\n",
       "     278,\n",
       "     278,\n",
       "     278,\n",
       "     278,\n",
       "     500,\n",
       "     556,\n",
       "     500,\n",
       "     500,\n",
       "     500,\n",
       "     500,\n",
       "     500,\n",
       "     549,\n",
       "     500,\n",
       "     556,\n",
       "     556,\n",
       "     556,\n",
       "     556,\n",
       "     500,\n",
       "     556,\n",
       "     500],\n",
       "    '/BaseFont': '/TimesNewRomanPS-BoldMT',\n",
       "    '/FontDescriptor': {'/Type': '/FontDescriptor',\n",
       "     '/FontName': '/TimesNewRomanPS-BoldMT',\n",
       "     '/Ascent': 677,\n",
       "     '/CapHeight': 500,\n",
       "     '/Descent': -216,\n",
       "     '/Flags': 34,\n",
       "     '/FontBBox': [-558, -307, 2034, 1026],\n",
       "     '/ItalicAngle': 0,\n",
       "     '/StemV': 0,\n",
       "     '/AvgWidth': 427,\n",
       "     '/Leading': 150,\n",
       "     '/MaxWidth': 2592,\n",
       "     '/XHeight': 250,\n",
       "     '/FontFile': {'/Filter': ['/ASCII85Decode'],\n",
       "      '/Length1': 4690,\n",
       "      '/Length2': 46374,\n",
       "      '/Length3': 532}}},\n",
       "   '/F6': {'/Type': '/Font',\n",
       "    '/Subtype': '/Type1',\n",
       "    '/Name': '/F6',\n",
       "    '/Encoding': '/WinAnsiEncoding',\n",
       "    '/FirstChar': 31,\n",
       "    '/LastChar': 255,\n",
       "    '/Widths': [778,\n",
       "     250,\n",
       "     333,\n",
       "     408,\n",
       "     500,\n",
       "     500,\n",
       "     833,\n",
       "     778,\n",
       "     180,\n",
       "     333,\n",
       "     333,\n",
       "     500,\n",
       "     564,\n",
       "     250,\n",
       "     333,\n",
       "     250,\n",
       "     278,\n",
       "     500,\n",
       "     500,\n",
       "     500,\n",
       "     500,\n",
       "     500,\n",
       "     500,\n",
       "     500,\n",
       "     500,\n",
       "     500,\n",
       "     500,\n",
       "     278,\n",
       "     278,\n",
       "     564,\n",
       "     564,\n",
       "     564,\n",
       "     444,\n",
       "     921,\n",
       "     722,\n",
       "     667,\n",
       "     667,\n",
       "     722,\n",
       "     611,\n",
       "     556,\n",
       "     722,\n",
       "     722,\n",
       "     333,\n",
       "     389,\n",
       "     722,\n",
       "     611,\n",
       "     889,\n",
       "     722,\n",
       "     722,\n",
       "     556,\n",
       "     722,\n",
       "     667,\n",
       "     556,\n",
       "     611,\n",
       "     722,\n",
       "     722,\n",
       "     944,\n",
       "     722,\n",
       "     722,\n",
       "     611,\n",
       "     333,\n",
       "     278,\n",
       "     333,\n",
       "     469,\n",
       "     500,\n",
       "     333,\n",
       "     444,\n",
       "     500,\n",
       "     444,\n",
       "     500,\n",
       "     444,\n",
       "     333,\n",
       "     500,\n",
       "     500,\n",
       "     278,\n",
       "     278,\n",
       "     500,\n",
       "     278,\n",
       "     778,\n",
       "     500,\n",
       "     500,\n",
       "     500,\n",
       "     500,\n",
       "     333,\n",
       "     389,\n",
       "     278,\n",
       "     500,\n",
       "     500,\n",
       "     722,\n",
       "     500,\n",
       "     500,\n",
       "     444,\n",
       "     480,\n",
       "     200,\n",
       "     480,\n",
       "     541,\n",
       "     778,\n",
       "     500,\n",
       "     778,\n",
       "     333,\n",
       "     500,\n",
       "     444,\n",
       "     1000,\n",
       "     500,\n",
       "     500,\n",
       "     333,\n",
       "     1000,\n",
       "     556,\n",
       "     333,\n",
       "     889,\n",
       "     778,\n",
       "     778,\n",
       "     778,\n",
       "     778,\n",
       "     333,\n",
       "     333,\n",
       "     444,\n",
       "     444,\n",
       "     350,\n",
       "     500,\n",
       "     1000,\n",
       "     333,\n",
       "     980,\n",
       "     389,\n",
       "     333,\n",
       "     722,\n",
       "     778,\n",
       "     778,\n",
       "     722,\n",
       "     250,\n",
       "     333,\n",
       "     500,\n",
       "     500,\n",
       "     500,\n",
       "     500,\n",
       "     200,\n",
       "     500,\n",
       "     333,\n",
       "     760,\n",
       "     276,\n",
       "     500,\n",
       "     564,\n",
       "     333,\n",
       "     760,\n",
       "     500,\n",
       "     400,\n",
       "     549,\n",
       "     300,\n",
       "     300,\n",
       "     333,\n",
       "     576,\n",
       "     453,\n",
       "     250,\n",
       "     333,\n",
       "     300,\n",
       "     310,\n",
       "     500,\n",
       "     750,\n",
       "     750,\n",
       "     750,\n",
       "     444,\n",
       "     722,\n",
       "     722,\n",
       "     722,\n",
       "     722,\n",
       "     722,\n",
       "     722,\n",
       "     889,\n",
       "     667,\n",
       "     611,\n",
       "     611,\n",
       "     611,\n",
       "     611,\n",
       "     333,\n",
       "     333,\n",
       "     333,\n",
       "     333,\n",
       "     722,\n",
       "     722,\n",
       "     722,\n",
       "     722,\n",
       "     722,\n",
       "     722,\n",
       "     722,\n",
       "     564,\n",
       "     722,\n",
       "     722,\n",
       "     722,\n",
       "     722,\n",
       "     722,\n",
       "     722,\n",
       "     556,\n",
       "     500,\n",
       "     444,\n",
       "     444,\n",
       "     444,\n",
       "     444,\n",
       "     444,\n",
       "     444,\n",
       "     667,\n",
       "     444,\n",
       "     444,\n",
       "     444,\n",
       "     444,\n",
       "     444,\n",
       "     278,\n",
       "     278,\n",
       "     278,\n",
       "     278,\n",
       "     500,\n",
       "     500,\n",
       "     500,\n",
       "     500,\n",
       "     500,\n",
       "     500,\n",
       "     500,\n",
       "     549,\n",
       "     500,\n",
       "     500,\n",
       "     500,\n",
       "     500,\n",
       "     500,\n",
       "     500,\n",
       "     500,\n",
       "     500],\n",
       "    '/BaseFont': '/TimesNewRomanPSMT',\n",
       "    '/FontDescriptor': {'/Type': '/FontDescriptor',\n",
       "     '/FontName': '/TimesNewRomanPSMT',\n",
       "     '/Ascent': 693,\n",
       "     '/CapHeight': 500,\n",
       "     '/Descent': -216,\n",
       "     '/Flags': 34,\n",
       "     '/FontBBox': [-568, -307, 2028, 1007],\n",
       "     '/ItalicAngle': 0,\n",
       "     '/StemV': 0,\n",
       "     '/AvgWidth': 401,\n",
       "     '/Leading': 150,\n",
       "     '/MaxWidth': 2597,\n",
       "     '/XHeight': 250,\n",
       "     '/FontFile': {'/Filter': ['/ASCII85Decode'],\n",
       "      '/Length1': 4680,\n",
       "      '/Length2': 46205,\n",
       "      '/Length3': 532}}}},\n",
       "  '/ProcSet': ['/PDF', '/Text']},\n",
       " '/Parent': {'/Type': '/Pages',\n",
       "  '/Count': 1,\n",
       "  '/Kids': [IndirectObject(4, 0, 139731496376464)]}}"
      ]
     },
     "execution_count": 33,
     "metadata": {},
     "output_type": "execute_result"
    }
   ],
   "source": [
    "# adding the first page to the writer object, still not added to the new file\n",
    "pdf_writer.add_page(first_pg)"
   ]
  },
  {
   "cell_type": "code",
   "execution_count": 34,
   "id": "fe86b64b",
   "metadata": {},
   "outputs": [],
   "source": [
    "# creating a new file or opening an existing one in 'wb' write binary mode\n",
    "new_file = open('new_file.pdf', 'wb')"
   ]
  },
  {
   "cell_type": "code",
   "execution_count": 35,
   "id": "c4882524",
   "metadata": {},
   "outputs": [
    {
     "data": {
      "text/plain": [
       "(False, <_io.BufferedWriter name='new_file.pdf'>)"
      ]
     },
     "execution_count": 35,
     "metadata": {},
     "output_type": "execute_result"
    }
   ],
   "source": [
    "# writing the first page stored in the pdf writer object to the new file created.\n",
    "pdf_writer.write(new_file)"
   ]
  },
  {
   "cell_type": "code",
   "execution_count": 37,
   "id": "e25b4f98",
   "metadata": {},
   "outputs": [],
   "source": [
    "# finally closing all the files\n",
    "new_file.close()\n",
    "myfile.close()"
   ]
  },
  {
   "cell_type": "markdown",
   "id": "3d7bf0ea",
   "metadata": {},
   "source": [
    "Reading the content in all the pages of a PDF into a single file"
   ]
  },
  {
   "cell_type": "code",
   "execution_count": 40,
   "id": "6663ac4e",
   "metadata": {},
   "outputs": [],
   "source": [
    "myfile = open('/home/santosh/Desktop/MASTERS/EXTRA_COURSE_WORK/NLP/UPDATED_NLP_COURSE/00-Python-Text-Basics/US_Declaration.pdf', 'rb')\n"
   ]
  },
  {
   "cell_type": "code",
   "execution_count": 41,
   "id": "c543181b",
   "metadata": {},
   "outputs": [],
   "source": [
    "pdf_reader = pypdf.PdfReader(myfile)"
   ]
  },
  {
   "cell_type": "code",
   "execution_count": 42,
   "id": "1aed3526",
   "metadata": {},
   "outputs": [
    {
     "data": {
      "text/plain": [
       "5"
      ]
     },
     "execution_count": 42,
     "metadata": {},
     "output_type": "execute_result"
    }
   ],
   "source": [
    "len(pdf_reader.pages)"
   ]
  },
  {
   "cell_type": "code",
   "execution_count": 46,
   "id": "562d5df9",
   "metadata": {},
   "outputs": [],
   "source": [
    "text = []\n",
    "for pgno in range(len(pdf_reader.pages)):\n",
    "    page = pdf_reader.pages[pgno]\n",
    "    text.append(page.extract_text())\n",
    "    \n",
    "myfile.close()\n",
    "    "
   ]
  },
  {
   "cell_type": "code",
   "execution_count": 48,
   "id": "f75e911c",
   "metadata": {},
   "outputs": [
    {
     "name": "stdout",
     "output_type": "stream",
     "text": [
      "Declaration of Independence\n",
      "IN CONGRESS, July 4, 1776.  \n",
      "The unanimous Declaration of the thirteen united States of America,  \n",
      "When in the Course of human events, it becomes necessary for one people to dissolve thepolitical bands which have connected them with another, and to assume among the powers of theearth, the separate and equal station to which the Laws of Nature and of Nature's God entitlethem, a decent respect to the opinions of mankind requires that they should declare the causeswhich impel them to the separation. We hold these truths to be self-evident, that all men are created equal, that they are endowed bytheir Creator with certain unalienable Rights, that among these are Life, Liberty and the pursuit\n",
      "of Happiness.— \u0014That to secure these rights, Governments are instituted among Men, derivingtheir just powers from the consent of the governed,—  \u0014That whenever any Form of Government\n",
      "becomes destructive of these ends, it is the Right of the People to alter or to abolish it, and to\n",
      "institute new Government, laying its foundation on such principles and organizing its powers in\n",
      "such form, as to them shall seem most likely to effect their Safety and Happiness. Prudence,indeed, will dictate that Governments long established should not be changed for light andtransient causes; and accordingly all experience hath shewn, that mankind are more disposed to\n",
      "suffer, while evils are sufferable, than to right themselves by abolishing the forms to which theyare accustomed. But when a long train of abuses and usurpations, pursuing invariably the same\n",
      "Object evinces a design to reduce them under absolute Despotism, it is their right, it is their duty,\n",
      "to throw off such Government, and to provide new Guards for their future securit y.— \u0014Such has\n",
      "been the patient sufferance of these Colonies; and such is now the necessity which constrainsthem to alter their former Systems of Government. The history of the present King of GreatBritain is a history of repeated injuries and usurpations, all having in direct object the\n",
      "establishment of an absolute Tyranny over these States. To prove this, let Facts be submitted to a\n",
      "candid world. \n",
      "He has refused his Assent to Laws, the most wholesome and necessary for the\n",
      "public good.He has forbidden his Governors to pass Laws of immediate and pressingimportance, unless suspended in their operation till his Assent should be obtained;and when so suspended, he has utterly neglected to attend to them.He has refused to pass other Laws for the accommodation of large districts of\n",
      "people, unless those people would relinquish the right of Representation in theLegislature, a right inestimable to them and formidable to tyrants only. He has called together legislative bodies at places unusual, uncomfortable, and distantfrom the depository of their public Records, for the sole purpose of fatiguing them into\n",
      "compliance with his measures.\n",
      "\n",
      "\n",
      "\n",
      "\n",
      "\n",
      "\n",
      "\n",
      "\n",
      "\n",
      "\n",
      "He has dissolved Re presentative Ho uses repeatedly , for opposing wit h manly\n",
      "firmness his invasions on the rights of the people.\n",
      "He has refused for a long time, after such dissolutions, to cause others to be\n",
      "elected; whereby the Leg islative powers, incapable of Annihilation, have returned\n",
      "to the People at lar ge for their exe rcise; the State r emaining in the me an time\n",
      "exposed to all the dangers of invasion from without, and convulsions within.\n",
      "He has endeavou red to prevent the  population of these  States; for that pur pose\n",
      "obstructing the L aws for Natural ization of Foreig ners; refusing  to pass others to\n",
      "encourage their migrations hither, and raising the conditions of new\n",
      "Appropriations of  Lands.\n",
      "He has obstructed the Administration of Justice, by refusing his Assent to Laws\n",
      "for establishing  Judiciary pow ers.\n",
      "He has made Judge s dependent on his Wil l alone, for the te nure of their off ices,\n",
      "and the amount and  payment of t heir salaries.\n",
      "He has erected  a multitude of New  Offices, and se nt hither swarms of  Officers to\n",
      "harrass our people, and eat out their substance.\n",
      "He has kept among us, in times of peace, Standing Armies without the Consent of\n",
      "our legislature s.\n",
      "He has affected to render the Military independent of a nd superior to the Civil power.\n",
      "He has combined with others to subject us to a jurisdiction foreign to our\n",
      "constitution, and unacknowledged by our laws; giving his Assent to their Acts of\n",
      "pretended Legislation:\n",
      "For Quartering  large bodies of  armed troops amon g us:\n",
      "For protecting them, by a mock Trial, from punishment for any  Murders which\n",
      "they should c ommit on the Inha bitants of these Sta tes:\n",
      "For cutting off our Trade with all parts of the world:\n",
      "For imposing Taxe s on us without our Con sent: For deprivi ng us in many  cases,\n",
      "of the benefits of T rial by J ury:\n",
      "For transporting us beyond Seas to be tried for pretended of fences\n",
      "For abolishing the free System of English L aws in a neighbouring Province,\n",
      "establishing therein an Arbitrary government, and e nlarging its Boundaries so as\n",
      "\n",
      "\n",
      "\n",
      "\n",
      "\n",
      "\n",
      "\n",
      "\n",
      "\n",
      "\n",
      "to render it at onc e an example and fi t instrument for intr oducing the same\n",
      "absolute rule into  these Colonies:\n",
      "For taking away our Charters, abolishing our most valuable L aws, and altering\n",
      "fundamentally  the Forms of our G overnments:\n",
      "For suspending  our own Leg islatures, and de claring themse lves invested with\n",
      "power to legislate for us in all cases whatsoever.\n",
      "He has abdicated Government here, by declar ing us out of his Protection and\n",
      "waging War ag ainst us.\n",
      "He has plundered our seas, ravaged our Coasts, burnt our towns, and destroy ed the\n",
      "lives of our people.\n",
      "He is at this time transporting large Armies of foreign Mercenaries to compleat\n",
      "the works of death, desolation and tyranny , already begun with circumstances of\n",
      "Cruelty & pe rfidy scar cely para lleled in the most ba rbarous ages,  and totally\n",
      "unworthy of the Head of a civilized nation.\n",
      "He has constrained our fellow Citizens taken Captive on the high Seas to bear\n",
      "Arms against their Country, to become the executioners of their friends and\n",
      "Brethren, or to  fall themselves by  their Hands.\n",
      "He has excited domestic insurrections amongst us, and has endeavoured to bring\n",
      "on the inhabitants of our frontiers, the merciless Indian Savages, whose known\n",
      "rule of warfare, is an undistinguished destruction of all ages, sexes and conditions. \n",
      "In every  stage of these O ppressions We have  Petitioned for Redr ess in the most humble  terms:\n",
      "Our repeated Pe titions have been a nswered only  by repeate d injury. A Pr ince whose char acter is\n",
      "thus marked by every ac t which may define a Tyra nt, is unfit to be the ruler of a free people. \n",
      "Nor have We been wanting in attentions to our Brittish brethren. We have warned them from\n",
      "time to time  of attemp ts by th eir legi slature t o extend an  unwarra ntable jur isdiction  over us. We\n",
      "have reminded them of the circumstances of our emigration and settlement here. We have\n",
      "appealed to their native justice and magnanimity, and we have c onjured them by the ties of our\n",
      "common kindred to disavow these usurpations, which, would inevitably interrupt our\n",
      "connections and correspondence. They too have bee n deaf to the voice of justice and of\n",
      "consanguinity. We must, therefore, acquiesce in the necessity , which denounces our Separation,\n",
      "and hold them, as we hold the rest of mankind, Enemies in War, in Peace Friends. \n",
      "We, therefore, t he Representativ es of the united Sta tes of America, i n General Congr ess,\n",
      "Assembled, appealing to the Supreme Judge of the world for the rectitude of our intentions, do,\n",
      "in the Name, and by Authority of the g ood People of these Colonies, solemnly publish and\n",
      "declare, That th ese United Colonie s are, and of Rig ht ought to be Fre e and Indepe ndent States;\n",
      "that they are Absolved from all Allegiance to the British Crown, and that a ll political connection\n",
      "\n",
      "\n",
      "\n",
      "\n",
      "\n",
      "\n",
      "\n",
      "\n",
      "\n",
      "\n",
      "between them and the State of Great Britain, is and ought to be totally dissolved; and that as Freeand Independent States, they have full Power to levy War, conclude Peace, contract Alliances,\n",
      "establish Commerce, and to do all other Acts and Things which Independent States may of rightdo. And for the support of this Declaration, with a firm reliance on the protection of divineProvidence, we mutually pledge to each other our Lives, our Fortunes and our sacred Honor.[The 56 signatures on the Declaration were arranged in six columns: ] \n",
      "[Column 1] Georgia:\n",
      "   Button Gwinnett\n",
      "   Lyman Hall\n",
      "   George Walton \n",
      "[Column 2] North Carolina:\n",
      "   William Hooper\n",
      "   Joseph Hewes\n",
      "   John Penn\n",
      " South Carolina:\n",
      "   Edward Ru tledge\n",
      "   Thomas Heyward, Jr.\n",
      "  Thomas Lynch, Jr.\n",
      "  Arthur Middleton \n",
      "[Column 3] Massachusetts:\n",
      "   John Hancock Maryland:\n",
      "   Samuel Chase   William Paca   Thomas Stone   Charles Carroll of Carrollton Virginia:\n",
      "   George Wythe   Richard Henry Lee   Thomas Jefferson   Benjamin Harrison   Thomas Nelson, Jr.   Francis Lightfoot Lee   Carter Braxton [Column 4] Pennsylvania:\n",
      "  Robert Morris   Benjamin Rush\n",
      "   Benjamin Fran klin\n",
      "   John Morton\n",
      "\n",
      "\n",
      "\n",
      "\n",
      "\n",
      "\n",
      "\n",
      "\n",
      "\n",
      "\n",
      "   George Clymer\n",
      "   James Smith\n",
      "   George Taylor\n",
      "   James Wilson\n",
      "   George Ross\n",
      " Delaware:\n",
      "   Caesar Rodney\n",
      "   George Read\n",
      "   Thomas McKean \n",
      "[Column 5] New York:\n",
      "   Wi lliam Floyd\n",
      "   Philip Livingston\n",
      "   Francis L ewis\n",
      "   Lewis Morris\n",
      " New Jersey:\n",
      "   Richard Stockton\n",
      "   John Witherspoon\n",
      "   Francis Hopkinson\n",
      "   John Hart\n",
      "   Abraham Clark \n",
      "[Column 6] New Hampshire:\n",
      "   Josiah Bartlett\n",
      "   William Whipple\n",
      " Massachusetts:\n",
      "   Samuel Adams\n",
      "   John Adams\n",
      "   Robert Treat Paine\n",
      "   Elbridge Gerry\n",
      " Rhode Island:\n",
      "   Stephen Hopkins\n",
      "   William Ellery\n",
      " Connecticut:\n",
      "   Roger Sherman\n",
      "   Samuel Huntington\n",
      "   William Williams\n",
      "   Oliver Wolcott\n",
      " New Hampshire:\n",
      " Matthew Thornton\n",
      " \n",
      "\n",
      "\n",
      "\n",
      "\n",
      "\n",
      "\n",
      "\n",
      "\n",
      "\n",
      "\n"
     ]
    }
   ],
   "source": [
    "for pg in text:\n",
    "    print(pg)\n",
    "    print('\\n')\n",
    "    print('\\n')\n",
    "    print('\\n')\n",
    "    print('\\n')\n",
    "    print('\\n')"
   ]
  },
  {
   "cell_type": "markdown",
   "id": "6034fafc",
   "metadata": {},
   "source": [
    "PART-5 video-5 Regular expressions (part one)"
   ]
  },
  {
   "cell_type": "code",
   "execution_count": 83,
   "id": "f8ab7f58",
   "metadata": {},
   "outputs": [],
   "source": [
    "# '\\d' place holder pattern code for digits\n",
    "# Regular expressions allow for pattern searching in a text document\n",
    "# r'\\d{3}-\\d{3}-\\d{4}' =>  this regular expression looks for =>3 digits then '-' 3 digits then '-' then 4 digits\n",
    "text = \"The phone number of santosh is 312-478-2361\""
   ]
  },
  {
   "cell_type": "code",
   "execution_count": 50,
   "id": "3e25903a",
   "metadata": {},
   "outputs": [
    {
     "data": {
      "text/plain": [
       "True"
      ]
     },
     "execution_count": 50,
     "metadata": {},
     "output_type": "execute_result"
    }
   ],
   "source": [
    "'santosh' in text"
   ]
  },
  {
   "cell_type": "code",
   "execution_count": 53,
   "id": "13c672e8",
   "metadata": {},
   "outputs": [],
   "source": [
    "# importing the built-in python regular expression library\n",
    "import re"
   ]
  },
  {
   "cell_type": "code",
   "execution_count": 54,
   "id": "72e6c43f",
   "metadata": {},
   "outputs": [],
   "source": [
    "pattern = 'phone'"
   ]
  },
  {
   "cell_type": "code",
   "execution_count": 64,
   "id": "871e8898",
   "metadata": {},
   "outputs": [
    {
     "data": {
      "text/plain": [
       "(4, 9)"
      ]
     },
     "execution_count": 64,
     "metadata": {},
     "output_type": "execute_result"
    }
   ],
   "source": [
    "# returns only the first appearance of the pattern in the entire string\n",
    "searchResult = re.search(pattern, text)\n",
    "searchResult.span()"
   ]
  },
  {
   "cell_type": "code",
   "execution_count": 65,
   "id": "be0b4ef7",
   "metadata": {},
   "outputs": [
    {
     "data": {
      "text/plain": [
       "4"
      ]
     },
     "execution_count": 65,
     "metadata": {},
     "output_type": "execute_result"
    }
   ],
   "source": [
    "searchResult.start()"
   ]
  },
  {
   "cell_type": "code",
   "execution_count": 66,
   "id": "d16427ad",
   "metadata": {},
   "outputs": [
    {
     "data": {
      "text/plain": [
       "9"
      ]
     },
     "execution_count": 66,
     "metadata": {},
     "output_type": "execute_result"
    }
   ],
   "source": [
    "searchResult.end()"
   ]
  },
  {
   "cell_type": "code",
   "execution_count": 67,
   "id": "4e72e9bc",
   "metadata": {},
   "outputs": [],
   "source": [
    "text = 'My phone is a new phone'"
   ]
  },
  {
   "cell_type": "code",
   "execution_count": 69,
   "id": "aef24f64",
   "metadata": {},
   "outputs": [],
   "source": [
    "# here we search for a basic string\n",
    "search_res = re.search(pattern, text)"
   ]
  },
  {
   "cell_type": "code",
   "execution_count": 70,
   "id": "f37ad554",
   "metadata": {},
   "outputs": [
    {
     "data": {
      "text/plain": [
       "(3, 8)"
      ]
     },
     "execution_count": 70,
     "metadata": {},
     "output_type": "execute_result"
    }
   ],
   "source": [
    "search_res.span()"
   ]
  },
  {
   "cell_type": "code",
   "execution_count": 71,
   "id": "7fc39e7b",
   "metadata": {},
   "outputs": [
    {
     "data": {
      "text/plain": [
       "3"
      ]
     },
     "execution_count": 71,
     "metadata": {},
     "output_type": "execute_result"
    }
   ],
   "source": [
    "search_res.start()"
   ]
  },
  {
   "cell_type": "code",
   "execution_count": 72,
   "id": "1713a58e",
   "metadata": {},
   "outputs": [
    {
     "data": {
      "text/plain": [
       "8"
      ]
     },
     "execution_count": 72,
     "metadata": {},
     "output_type": "execute_result"
    }
   ],
   "source": [
    "search_res.end()"
   ]
  },
  {
   "cell_type": "code",
   "execution_count": 75,
   "id": "1e7fba29",
   "metadata": {},
   "outputs": [
    {
     "data": {
      "text/plain": [
       "['phone', 'phone']"
      ]
     },
     "execution_count": 75,
     "metadata": {},
     "output_type": "execute_result"
    }
   ],
   "source": [
    "# re.findall() will return a list of all possible appearances of the pattern\n",
    "search_res = re.findall(pattern, text)\n",
    "search_res"
   ]
  },
  {
   "cell_type": "code",
   "execution_count": 74,
   "id": "a07991f0",
   "metadata": {},
   "outputs": [
    {
     "data": {
      "text/plain": [
       "2"
      ]
     },
     "execution_count": 74,
     "metadata": {},
     "output_type": "execute_result"
    }
   ],
   "source": [
    "len(search_res)"
   ]
  },
  {
   "cell_type": "code",
   "execution_count": 78,
   "id": "7b10caf5",
   "metadata": {},
   "outputs": [
    {
     "name": "stdout",
     "output_type": "stream",
     "text": [
      "<re.Match object; span=(3, 8), match='phone'>\n",
      "(3, 8)\n",
      "the start index is 3 and the end index is 8\n",
      "<re.Match object; span=(18, 23), match='phone'>\n",
      "(18, 23)\n",
      "the start index is 18 and the end index is 23\n"
     ]
    }
   ],
   "source": [
    "for match in re.finditer(pattern, text):\n",
    "    print(match)\n",
    "    print(match.span())\n",
    "    print(f\"the start index is {match.start()} and the end index is {match.end()}\")"
   ]
  },
  {
   "cell_type": "markdown",
   "id": "cb97387b",
   "metadata": {},
   "source": [
    "Let's search for generalised patterns"
   ]
  },
  {
   "cell_type": "markdown",
   "id": "5639d367",
   "metadata": {},
   "source": [
    "Character\tDescription\t          Example_Pattern_Code\tExammple_Match\n",
    "\\d\t         A digit\t          file_\\d\\d\t            file_25\n",
    "\\w\t         Alphanumeric\t      \\w-\\w\\w\\w\t            A-b_1\n",
    "\\s\t         White space\t      a\\sb\\sc\t            a b c\n",
    "\\D\t         A non digit\t      \\D\\D\\D\t            ABC\n",
    "\\W\t         Non-alphanumeric\t  \\W\\W\\W\\W\\W\t        *-+=)\n",
    "\\S\t         Non-whitespace\t      \\S\\S\\S\\S\t            Yoyo\n"
   ]
  },
  {
   "cell_type": "code",
   "execution_count": 89,
   "id": "1cacd3d2",
   "metadata": {},
   "outputs": [],
   "source": [
    "text = 'My phone number is 312-478-2361 and 312-478-2323'"
   ]
  },
  {
   "cell_type": "code",
   "execution_count": 90,
   "id": "60094b36",
   "metadata": {},
   "outputs": [],
   "source": [
    "pattern = r'\\d\\d\\d-\\d\\d\\d-\\d\\d\\d\\d'\n",
    "ser_res = re.search(pattern, text)"
   ]
  },
  {
   "cell_type": "code",
   "execution_count": 91,
   "id": "a9b16342",
   "metadata": {},
   "outputs": [
    {
     "data": {
      "text/plain": [
       "(19, 31)"
      ]
     },
     "execution_count": 91,
     "metadata": {},
     "output_type": "execute_result"
    }
   ],
   "source": [
    "ser_res.span()"
   ]
  },
  {
   "cell_type": "code",
   "execution_count": 92,
   "id": "4d6c6179",
   "metadata": {},
   "outputs": [
    {
     "data": {
      "text/plain": [
       "'312-478-2361'"
      ]
     },
     "execution_count": 92,
     "metadata": {},
     "output_type": "execute_result"
    }
   ],
   "source": [
    "ser_res.group()"
   ]
  },
  {
   "cell_type": "markdown",
   "id": "86ddf851",
   "metadata": {},
   "source": [
    "Notice the repetition of \\d. That is a bit of an annoyance, especially if we are looking for very long strings of numbers. Let's explore the possible quantifiers.\n",
    "\n",
    "## Quantifiers\n",
    "\n",
    "Now that we know the special character designations, we can use them along with quantifiers to define how many we expect."
   ]
  },
  {
   "cell_type": "markdown",
   "id": "3d97a587",
   "metadata": {},
   "source": [
    "<table ><tr><th>Character</th><th>Description</th><th>Example Pattern Code</th><th >Exammple Match</th></tr>\n",
    "\n",
    "<tr ><td><span >+</span></td><td>Occurs one or more times</td><td>\tVersion \\w-\\w+</td><td>Version A-b1_1</td></tr>\n",
    "\n",
    "<tr ><td><span >{3}</span></td><td>Occurs exactly 3 times</td><td>\\D{3}</td><td>abc</td></tr>\n",
    "\n",
    "\n",
    "\n",
    "<tr ><td><span >{2,4}</span></td><td>Occurs 2 to 4 times</td><td>\\d{2,4}</td><td>123</td></tr>\n",
    "\n",
    "\n",
    "\n",
    "<tr ><td><span >{3,}</span></td><td>Occurs 3 or more</td><td>\\w{3,}</td><td>anycharacters</td></tr>\n",
    "\n",
    "<tr ><td><span >\\*</span></td><td>Occurs zero or more times</td><td>A\\*B\\*C*</td><td>AAACC</td></tr>\n",
    "\n",
    "<tr ><td><span >?</span></td><td>Once or none</td><td>plurals?</td><td>plural</td></tr></table>"
   ]
  },
  {
   "cell_type": "code",
   "execution_count": 96,
   "id": "453d7d4e",
   "metadata": {},
   "outputs": [],
   "source": [
    "# re-writing the regex pattern using the quantifiers\n",
    "pattern = r'\\d{3}-\\d{3}-\\d{4}'\n",
    "ser_res = re.search(pattern, text)"
   ]
  },
  {
   "cell_type": "code",
   "execution_count": 97,
   "id": "d61c46c3",
   "metadata": {},
   "outputs": [
    {
     "data": {
      "text/plain": [
       "'312-478-2361'"
      ]
     },
     "execution_count": 97,
     "metadata": {},
     "output_type": "execute_result"
    }
   ],
   "source": [
    "ser_res.group()"
   ]
  },
  {
   "cell_type": "markdown",
   "id": "e51aac2e",
   "metadata": {},
   "source": [
    "GROUPS: using groups in the regular expressions\n",
    "\n",
    "normal regex => r'\\d{3}-\\d{3}-\\d{4}' \n",
    "\n",
    "regex with group => r'(\\d{3})-(\\d{3})-(\\d{4})'"
   ]
  },
  {
   "cell_type": "code",
   "execution_count": 98,
   "id": "2e47c0b1",
   "metadata": {},
   "outputs": [],
   "source": [
    "pattern = r'(\\d{3})-(\\d{3})-(\\d{4})'\n",
    "ser_res = re.search(pattern, text)"
   ]
  },
  {
   "cell_type": "code",
   "execution_count": 99,
   "id": "a3602eca",
   "metadata": {},
   "outputs": [
    {
     "data": {
      "text/plain": [
       "'312-478-2361'"
      ]
     },
     "execution_count": 99,
     "metadata": {},
     "output_type": "execute_result"
    }
   ],
   "source": [
    "ser_res.group()"
   ]
  },
  {
   "cell_type": "code",
   "execution_count": 101,
   "id": "3d302424",
   "metadata": {},
   "outputs": [
    {
     "data": {
      "text/plain": [
       "'312'"
      ]
     },
     "execution_count": 101,
     "metadata": {},
     "output_type": "execute_result"
    }
   ],
   "source": [
    "ser_res.group(1)"
   ]
  },
  {
   "cell_type": "markdown",
   "id": "0812faba",
   "metadata": {},
   "source": [
    "\n",
    "PIPE Operator\n",
    "\n",
    "used for OR operation"
   ]
  },
  {
   "cell_type": "code",
   "execution_count": 103,
   "id": "d87e9484",
   "metadata": {},
   "outputs": [
    {
     "data": {
      "text/plain": [
       "(8, 11)"
      ]
     },
     "execution_count": 103,
     "metadata": {},
     "output_type": "execute_result"
    }
   ],
   "source": [
    "pattern = r'man|woman'\n",
    "text = \"This is man or woman\"\n",
    "ser_res = re.search(pattern, text)\n",
    "ser_res.span()"
   ]
  },
  {
   "cell_type": "code",
   "execution_count": 104,
   "id": "e31ff334",
   "metadata": {},
   "outputs": [
    {
     "data": {
      "text/plain": [
       "'man'"
      ]
     },
     "execution_count": 104,
     "metadata": {},
     "output_type": "execute_result"
    }
   ],
   "source": [
    "ser_res.group()"
   ]
  },
  {
   "cell_type": "code",
   "execution_count": 105,
   "id": "a591792a",
   "metadata": {},
   "outputs": [
    {
     "data": {
      "text/plain": [
       "(8, 13)"
      ]
     },
     "execution_count": 105,
     "metadata": {},
     "output_type": "execute_result"
    }
   ],
   "source": [
    "text = \"This is woman or man\"\n",
    "ser_res = re.search(pattern, text)\n",
    "ser_res.span()"
   ]
  },
  {
   "cell_type": "code",
   "execution_count": 106,
   "id": "fddab3cf",
   "metadata": {},
   "outputs": [
    {
     "data": {
      "text/plain": [
       "'woman'"
      ]
     },
     "execution_count": 106,
     "metadata": {},
     "output_type": "execute_result"
    }
   ],
   "source": [
    "ser_res.group()"
   ]
  },
  {
   "cell_type": "markdown",
   "id": "3dcd2ebc",
   "metadata": {},
   "source": [
    "WILD CARD CHARACTER\n",
    "\n",
    "'.' will match any character placed in the place of the dot operator"
   ]
  },
  {
   "cell_type": "code",
   "execution_count": 115,
   "id": "85562db6",
   "metadata": {},
   "outputs": [
    {
     "data": {
      "text/plain": [
       "['cat', 'hat', 'rat', 'lat']"
      ]
     },
     "execution_count": 115,
     "metadata": {},
     "output_type": "execute_result"
    }
   ],
   "source": [
    "pattern = r'.at'\n",
    "# returns a list of all the occurances\n",
    "ser_res = re.findall(pattern, 'The cat in the hat and the rat and splat')\n",
    "# here the wild card character is only one, hence only 'lat' is printed for splat\n",
    "ser_res"
   ]
  },
  {
   "cell_type": "code",
   "execution_count": 116,
   "id": "b3b37ae0",
   "metadata": {},
   "outputs": [
    {
     "data": {
      "text/plain": [
       "'cat'"
      ]
     },
     "execution_count": 116,
     "metadata": {},
     "output_type": "execute_result"
    }
   ],
   "source": [
    "ser_res[0]"
   ]
  },
  {
   "cell_type": "markdown",
   "id": "c83f8196",
   "metadata": {},
   "source": [
    "START or END with a particular type of character\n",
    "\n",
    "^ =>  starts with\n",
    "\n",
    "$ =>  ends with\n",
    "\n",
    "It is for entire string and not for individual words"
   ]
  },
  {
   "cell_type": "code",
   "execution_count": 118,
   "id": "e9e9c481",
   "metadata": {},
   "outputs": [
    {
     "data": {
      "text/plain": [
       "(0, 1)"
      ]
     },
     "execution_count": 118,
     "metadata": {},
     "output_type": "execute_result"
    }
   ],
   "source": [
    "ser_res = re.search(r'^\\d', '1 is the loneliest number')\n",
    "ser_res.span()"
   ]
  },
  {
   "cell_type": "code",
   "execution_count": 119,
   "id": "cc2cfe52",
   "metadata": {},
   "outputs": [
    {
     "data": {
      "text/plain": [
       "'1'"
      ]
     },
     "execution_count": 119,
     "metadata": {},
     "output_type": "execute_result"
    }
   ],
   "source": [
    "ser_res.group()"
   ]
  },
  {
   "cell_type": "code",
   "execution_count": 120,
   "id": "e36a15f4",
   "metadata": {},
   "outputs": [
    {
     "data": {
      "text/plain": [
       "(19, 20)"
      ]
     },
     "execution_count": 120,
     "metadata": {},
     "output_type": "execute_result"
    }
   ],
   "source": [
    "ser_res= re.search(r'\\d$', 'the last number is 2')\n",
    "ser_res.span()"
   ]
  },
  {
   "cell_type": "code",
   "execution_count": 121,
   "id": "957cd60c",
   "metadata": {},
   "outputs": [
    {
     "data": {
      "text/plain": [
       "'2'"
      ]
     },
     "execution_count": 121,
     "metadata": {},
     "output_type": "execute_result"
    }
   ],
   "source": [
    "ser_res.group()"
   ]
  },
  {
   "cell_type": "markdown",
   "id": "d8509621",
   "metadata": {},
   "source": [
    "EXCLUSION \n",
    "\n",
    "Excluding characters can be done using square brackets."
   ]
  },
  {
   "cell_type": "code",
   "execution_count": 125,
   "id": "96158ce1",
   "metadata": {},
   "outputs": [
    {
     "data": {
      "text/plain": [
       "['T',\n",
       " 'h',\n",
       " 'i',\n",
       " 's',\n",
       " ' ',\n",
       " 's',\n",
       " 'e',\n",
       " 'n',\n",
       " 't',\n",
       " 'e',\n",
       " 'n',\n",
       " 'c',\n",
       " 'e',\n",
       " ' ',\n",
       " ' ',\n",
       " 'h',\n",
       " 'a',\n",
       " 's',\n",
       " ' ',\n",
       " ' ',\n",
       " 's',\n",
       " 'o',\n",
       " 'm',\n",
       " 'e',\n",
       " ' ',\n",
       " ' ',\n",
       " 'n',\n",
       " 'u',\n",
       " 'm',\n",
       " 'b',\n",
       " 'e',\n",
       " 'r',\n",
       " 's']"
      ]
     },
     "execution_count": 125,
     "metadata": {},
     "output_type": "execute_result"
    }
   ],
   "source": [
    "ser_res = re.findall(r'[^\\d]', 'This sentence 3 has 43 some 55 numbers')\n",
    "ser_res\n"
   ]
  },
  {
   "cell_type": "code",
   "execution_count": 127,
   "id": "38280d26",
   "metadata": {},
   "outputs": [
    {
     "data": {
      "text/plain": [
       "['This sentence ', ' has ', ' some ', ' numbers']"
      ]
     },
     "execution_count": 127,
     "metadata": {},
     "output_type": "execute_result"
    }
   ],
   "source": [
    "# adding a '+' sign in the below regex will return all the words together instead of separate characters\n",
    "ser_res = re.findall(r'[^\\d]+', 'This sentence 3 has 43 some 55 numbers')\n",
    "ser_res"
   ]
  },
  {
   "cell_type": "markdown",
   "id": "b2fdbc95",
   "metadata": {},
   "source": [
    "We can basically use EXCLUSION to remove punctuation from a sentence in Natural Language Processing"
   ]
  },
  {
   "cell_type": "code",
   "execution_count": 128,
   "id": "719ad79d",
   "metadata": {},
   "outputs": [
    {
     "data": {
      "text/plain": [
       "['This',\n",
       " 'is',\n",
       " 'a',\n",
       " 'string',\n",
       " 'But',\n",
       " 'has',\n",
       " 'punctuatuin',\n",
       " 'How',\n",
       " 'to',\n",
       " 'remove',\n",
       " 'it']"
      ]
     },
     "execution_count": 128,
     "metadata": {},
     "output_type": "execute_result"
    }
   ],
   "source": [
    "text = 'This is a string! But has punctuatuin. How to remove it?'\n",
    "ser_res = re.findall(r'[^!.? ]+', text)\n",
    "# returns a list with all the punctuations removed\n",
    "ser_res"
   ]
  },
  {
   "cell_type": "code",
   "execution_count": 131,
   "id": "21706660",
   "metadata": {},
   "outputs": [
    {
     "data": {
      "text/plain": [
       "'This is a string But has punctuatuin How to remove it'"
      ]
     },
     "execution_count": 131,
     "metadata": {},
     "output_type": "execute_result"
    }
   ],
   "source": [
    "# we join all words in the list to frame a sentence by adding white space in between words\n",
    "' '.join(ser_res)"
   ]
  },
  {
   "cell_type": "markdown",
   "id": "fb5b4bb7",
   "metadata": {},
   "source": [
    "GROUPING\n",
    "\n",
    "'+' with brackets allow grouping"
   ]
  },
  {
   "cell_type": "code",
   "execution_count": 132,
   "id": "7c6df2d2",
   "metadata": {},
   "outputs": [
    {
     "data": {
      "text/plain": [
       "['hyphen-words', 'long-ish']"
      ]
     },
     "execution_count": 132,
     "metadata": {},
     "output_type": "execute_result"
    }
   ],
   "source": [
    "text = 'only find the hyphen-words. and the long-ish words'\n",
    "ser_res = re.findall(r'\\w+-\\w+',text)\n",
    "ser_res"
   ]
  },
  {
   "cell_type": "code",
   "execution_count": 133,
   "id": "437ad86f",
   "metadata": {},
   "outputs": [
    {
     "data": {
      "text/plain": [
       "['hyphen-words', 'long-ish']"
      ]
     },
     "execution_count": 133,
     "metadata": {},
     "output_type": "execute_result"
    }
   ],
   "source": [
    "# The same can be achieved using \n",
    "ser_res = re.findall(r'[\\w]+-[\\w]+', text)\n",
    "ser_res"
   ]
  },
  {
   "cell_type": "code",
   "execution_count": null,
   "id": "3b748129",
   "metadata": {},
   "outputs": [],
   "source": []
  }
 ],
 "metadata": {
  "kernelspec": {
   "display_name": "Python 3 (ipykernel)",
   "language": "python",
   "name": "python3"
  },
  "language_info": {
   "codemirror_mode": {
    "name": "ipython",
    "version": 3
   },
   "file_extension": ".py",
   "mimetype": "text/x-python",
   "name": "python",
   "nbconvert_exporter": "python",
   "pygments_lexer": "ipython3",
   "version": "3.7.16"
  }
 },
 "nbformat": 4,
 "nbformat_minor": 5
}
